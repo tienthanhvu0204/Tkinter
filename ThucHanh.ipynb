{
 "cells": [
  {
   "cell_type": "code",
   "execution_count": null,
   "metadata": {},
   "outputs": [],
   "source": [
    "from tkinter import *\n",
    "from tkinter.ttk import *\n",
    "\n",
    "root = Tk() # cửa sổ chính\n",
    "root.title (\"First programe\") # đặt tiêu đề\n",
    "\n",
    "label = Label (root, text = \"Hello World!\").pack() # tạo text \"Hello World!\"\n",
    "\n",
    "root.mainloop () # phương thức để show cửa sổ ra màn hình\n",
    " "
   ]
  },
  {
   "cell_type": "code",
   "execution_count": null,
   "metadata": {},
   "outputs": [],
   "source": [
    "import tkinter\n",
    "import tkinter.ttk\n",
    "\n",
    "root = tkinter.Tk ()\n",
    "root.title (\"First program\")\n",
    "\n",
    "label = tkinter.ttk.Label (root, text = \"Hello World!\").pack ()\n",
    "\n",
    "root.mainloop ()\n"
   ]
  },
  {
   "cell_type": "code",
   "execution_count": null,
   "metadata": {},
   "outputs": [],
   "source": [
    "from tkinter import *\n",
    "\n",
    "window = Tk()\n",
    "window.geometry(\"400x250\")\n",
    "window.title(\"Click Event\")\n",
    "\n",
    "def callback(event):\n",
    "    print(\"clicked at\", event.x, event.y)\n",
    "\n",
    "frame = Frame(window, width=400, height=250)\n",
    "frame.bind(\"<Button-1>\", callback)\n",
    "frame.pack()\n",
    "\n",
    "window.mainloop()"
   ]
  }
 ],
 "metadata": {
  "interpreter": {
   "hash": "6ab48febc2dc804377893e46a56b9ddbc1f959fa16837565a1acc5cc003c0246"
  },
  "kernelspec": {
   "display_name": "Python 3.9.7 ('base')",
   "language": "python",
   "name": "python3"
  },
  "language_info": {
   "codemirror_mode": {
    "name": "ipython",
    "version": 3
   },
   "file_extension": ".py",
   "mimetype": "text/x-python",
   "name": "python",
   "nbconvert_exporter": "python",
   "pygments_lexer": "ipython3",
   "version": "3.9.7"
  },
  "orig_nbformat": 4
 },
 "nbformat": 4,
 "nbformat_minor": 2
}
